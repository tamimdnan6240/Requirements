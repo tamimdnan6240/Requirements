{
 "cells": [
  {
   "cell_type": "code",
   "execution_count": 4,
   "id": "6028b306",
   "metadata": {},
   "outputs": [],
   "source": [
    "import fitz  # PyMuPDF\n",
    "\n",
    "def extract_text_from_pdf(pdf_path):\n",
    "    \"\"\"Extract text from each page of the given PDF.\"\"\"\n",
    "    doc = fitz.open(pdf_path)\n",
    "    text = \"\"\n",
    "    for page in doc:\n",
    "        text += page.get_text()\n",
    "    return text\n",
    "\n",
    "def search_keywords_in_text(text, keywords):\n",
    "    \"\"\"Search for keywords in the provided text.\"\"\"\n",
    "    found_keywords = [keyword for keyword in keywords if keyword in text]\n",
    "    return found_keywords\n",
    "\n",
    "def main(pdf_path, keywords):\n",
    "    text = extract_text_from_pdf(pdf_path)\n",
    "    found_keywords = search_keywords_in_text(text, keywords)\n",
    "    if found_keywords:\n",
    "        print(\"Found Keywords:\", found_keywords)\n",
    "        print(\"Comment: It's true\")\n",
    "    else:\n",
    "        print(\"No keywords found.\")\n"
   ]
  },
  {
   "cell_type": "code",
   "execution_count": 10,
   "id": "29375c57",
   "metadata": {},
   "outputs": [
    {
     "name": "stdout",
     "output_type": "stream",
     "text": [
      "Found Keywords: ['divide and conquer']\n",
      "Comment: It's true\n"
     ]
    }
   ],
   "source": [
    "# Example usage\n",
    "pdf_path = 'recrusion_rurbana Champaign.pdf'\n",
    "keywords = ['divide and conquer']  # Replace with your keywords\n",
    "main(pdf_path, keywords)\n"
   ]
  },
  {
   "cell_type": "code",
   "execution_count": 11,
   "id": "7c317391",
   "metadata": {},
   "outputs": [],
   "source": [
    "## reference: https://medium.com/analytics-vidhya/how-to-extract-texts-from-pdf-file-and-search-keywords-from-extracted-text-in-python-c5f3d4841f20 "
   ]
  },
  {
   "cell_type": "code",
   "execution_count": null,
   "id": "f454805a",
   "metadata": {},
   "outputs": [],
   "source": []
  }
 ],
 "metadata": {
  "kernelspec": {
   "display_name": "Python 3 (ipykernel)",
   "language": "python",
   "name": "python3"
  },
  "language_info": {
   "codemirror_mode": {
    "name": "ipython",
    "version": 3
   },
   "file_extension": ".py",
   "mimetype": "text/x-python",
   "name": "python",
   "nbconvert_exporter": "python",
   "pygments_lexer": "ipython3",
   "version": "3.11.5"
  }
 },
 "nbformat": 4,
 "nbformat_minor": 5
}
