{
 "cells": [
  {
   "cell_type": "code",
   "execution_count": 1,
   "id": "f4efe86d",
   "metadata": {},
   "outputs": [
    {
     "name": "stdout",
     "output_type": "stream",
     "text": [
      "CUDA is enabled!\n",
      "PyTorch version: 1.13.1\n",
      "CUDA version: None\n",
      "No GPU available.\n",
      "CUDA is not working.\n"
     ]
    }
   ],
   "source": [
    "import torch \n",
    "\n",
    "## enable cuda:\n",
    "  \n",
    "device = torch.device('cuda' if torch.cuda.is_available else 'cpu') \n",
    "torch.cuda.is_available()\n",
    "\n",
    "import torch\n",
    "\n",
    "\n",
    "# check if cuda is enabled\n",
    "if device.type == 'cuda':\n",
    "    print('CUDA is enabled!')\n",
    "else:\n",
    "    print('CUDA is not enabled!')\n",
    "\n",
    "# use the device\n",
    "# check the version of PyTorch\n",
    "print(\"PyTorch version:\", torch.__version__)\n",
    "\n",
    "# check the CUDA version\n",
    "print(\"CUDA version:\", torch.version.cuda)\n",
    "\n",
    "# check the GPU model\n",
    "if torch.cuda.is_available():\n",
    "    print(\"GPU model:\", torch.cuda.get_device_name())\n",
    "else:\n",
    "    print(\"No GPU available.\")\n",
    "\n",
    "# check if the GPU is being used\n",
    "#print(\"Is the GPU being used?\", torch.cuda.current_device())\n",
    "\n",
    "# test if CUDA is working by running a simple computation on the GPU\n",
    "if torch.cuda.is_available():\n",
    "    x = torch.randn(1000, 1000).to(device)\n",
    "    y = torch.randn(1000, 1000).to(device)\n",
    "    z = torch.matmul(x, y)\n",
    "    print(\"CUDA is working!\")\n",
    "else:\n",
    "    print(\"CUDA is not working.\")"
   ]
  },
  {
   "cell_type": "code",
   "execution_count": null,
   "id": "84922bee",
   "metadata": {},
   "outputs": [],
   "source": []
  }
 ],
 "metadata": {
  "kernelspec": {
   "display_name": "Python 3 (ipykernel)",
   "language": "python",
   "name": "python3"
  },
  "language_info": {
   "codemirror_mode": {
    "name": "ipython",
    "version": 3
   },
   "file_extension": ".py",
   "mimetype": "text/x-python",
   "name": "python",
   "nbconvert_exporter": "python",
   "pygments_lexer": "ipython3",
   "version": "3.10.8"
  }
 },
 "nbformat": 4,
 "nbformat_minor": 5
}
