{
 "cells": [
  {
   "cell_type": "code",
   "execution_count": 1,
   "id": "e08a2ddc",
   "metadata": {
    "scrolled": false
   },
   "outputs": [
    {
     "name": "stdout",
     "output_type": "stream",
     "text": [
      "Requirement already satisfied: numpy in c:\\users\\tadnan\\anaconda3\\envs\\deepcrack\\lib\\site-packages (from -r Requirements.txt (line 1)) (1.24.2)\n",
      "Requirement already satisfied: pandas in c:\\users\\tadnan\\anaconda3\\envs\\deepcrack\\lib\\site-packages (from -r Requirements.txt (line 2)) (1.5.3)\n",
      "Requirement already satisfied: matplotlib in c:\\users\\tadnan\\anaconda3\\envs\\deepcrack\\lib\\site-packages (from -r Requirements.txt (line 3)) (3.7.1)\n",
      "Requirement already satisfied: scikit-learn in c:\\users\\tadnan\\anaconda3\\envs\\deepcrack\\lib\\site-packages (from -r Requirements.txt (line 4)) (1.2.2)\n",
      "Requirement already satisfied: seaborn in c:\\users\\tadnan\\anaconda3\\envs\\deepcrack\\lib\\site-packages (from -r Requirements.txt (line 5)) (0.12.2)\n",
      "Requirement already satisfied: torch in c:\\users\\tadnan\\anaconda3\\envs\\deepcrack\\lib\\site-packages (from -r Requirements.txt (line 6)) (1.13.1)\n",
      "Requirement already satisfied: torchvision in c:\\users\\tadnan\\anaconda3\\envs\\deepcrack\\lib\\site-packages (from -r Requirements.txt (line 7)) (0.14.1)\n",
      "Requirement already satisfied: tqdm in c:\\users\\tadnan\\anaconda3\\envs\\deepcrack\\lib\\site-packages (from -r Requirements.txt (line 8)) (4.65.0)\n",
      "Requirement already satisfied: visdom in c:\\users\\tadnan\\anaconda3\\envs\\deepcrack\\lib\\site-packages (from -r Requirements.txt (line 9)) (0.2.4)\n",
      "Collecting setproctitle\n",
      "  Downloading setproctitle-1.3.2-cp39-cp39-win_amd64.whl (11 kB)\n",
      "Requirement already satisfied: pytz>=2020.1 in c:\\users\\tadnan\\anaconda3\\envs\\deepcrack\\lib\\site-packages (from pandas->-r Requirements.txt (line 2)) (2022.7.1)\n",
      "Requirement already satisfied: python-dateutil>=2.8.1 in c:\\users\\tadnan\\anaconda3\\envs\\deepcrack\\lib\\site-packages (from pandas->-r Requirements.txt (line 2)) (2.8.2)\n",
      "Requirement already satisfied: cycler>=0.10 in c:\\users\\tadnan\\anaconda3\\envs\\deepcrack\\lib\\site-packages (from matplotlib->-r Requirements.txt (line 3)) (0.11.0)\n",
      "Requirement already satisfied: packaging>=20.0 in c:\\users\\tadnan\\anaconda3\\envs\\deepcrack\\lib\\site-packages (from matplotlib->-r Requirements.txt (line 3)) (22.0)\n",
      "Requirement already satisfied: fonttools>=4.22.0 in c:\\users\\tadnan\\anaconda3\\envs\\deepcrack\\lib\\site-packages (from matplotlib->-r Requirements.txt (line 3)) (4.39.0)\n",
      "Requirement already satisfied: kiwisolver>=1.0.1 in c:\\users\\tadnan\\anaconda3\\envs\\deepcrack\\lib\\site-packages (from matplotlib->-r Requirements.txt (line 3)) (1.4.4)\n",
      "Requirement already satisfied: pillow>=6.2.0 in c:\\users\\tadnan\\anaconda3\\envs\\deepcrack\\lib\\site-packages (from matplotlib->-r Requirements.txt (line 3)) (9.4.0)\n",
      "Requirement already satisfied: pyparsing>=2.3.1 in c:\\users\\tadnan\\anaconda3\\envs\\deepcrack\\lib\\site-packages (from matplotlib->-r Requirements.txt (line 3)) (3.0.9)\n",
      "Requirement already satisfied: contourpy>=1.0.1 in c:\\users\\tadnan\\anaconda3\\envs\\deepcrack\\lib\\site-packages (from matplotlib->-r Requirements.txt (line 3)) (1.0.7)\n",
      "Requirement already satisfied: importlib-resources>=3.2.0 in c:\\users\\tadnan\\anaconda3\\envs\\deepcrack\\lib\\site-packages (from matplotlib->-r Requirements.txt (line 3)) (5.12.0)\n",
      "Requirement already satisfied: joblib>=1.1.1 in c:\\users\\tadnan\\anaconda3\\envs\\deepcrack\\lib\\site-packages (from scikit-learn->-r Requirements.txt (line 4)) (1.2.0)\n",
      "Requirement already satisfied: scipy>=1.3.2 in c:\\users\\tadnan\\anaconda3\\envs\\deepcrack\\lib\\site-packages (from scikit-learn->-r Requirements.txt (line 4)) (1.10.1)\n",
      "Requirement already satisfied: threadpoolctl>=2.0.0 in c:\\users\\tadnan\\anaconda3\\envs\\deepcrack\\lib\\site-packages (from scikit-learn->-r Requirements.txt (line 4)) (3.1.0)\n",
      "Requirement already satisfied: typing-extensions in c:\\users\\tadnan\\anaconda3\\envs\\deepcrack\\lib\\site-packages (from torch->-r Requirements.txt (line 6)) (4.4.0)\n",
      "Requirement already satisfied: requests in c:\\users\\tadnan\\anaconda3\\envs\\deepcrack\\lib\\site-packages (from torchvision->-r Requirements.txt (line 7)) (2.28.2)\n",
      "Requirement already satisfied: colorama in c:\\users\\tadnan\\anaconda3\\envs\\deepcrack\\lib\\site-packages (from tqdm->-r Requirements.txt (line 8)) (0.4.6)\n",
      "Requirement already satisfied: tornado in c:\\users\\tadnan\\anaconda3\\envs\\deepcrack\\lib\\site-packages (from visdom->-r Requirements.txt (line 9)) (6.2)\n",
      "Requirement already satisfied: websocket-client in c:\\users\\tadnan\\anaconda3\\envs\\deepcrack\\lib\\site-packages (from visdom->-r Requirements.txt (line 9)) (0.58.0)\n",
      "Requirement already satisfied: jsonpatch in c:\\users\\tadnan\\anaconda3\\envs\\deepcrack\\lib\\site-packages (from visdom->-r Requirements.txt (line 9)) (1.32)\n",
      "Requirement already satisfied: networkx in c:\\users\\tadnan\\anaconda3\\envs\\deepcrack\\lib\\site-packages (from visdom->-r Requirements.txt (line 9)) (3.0)\n",
      "Requirement already satisfied: six in c:\\users\\tadnan\\anaconda3\\envs\\deepcrack\\lib\\site-packages (from visdom->-r Requirements.txt (line 9)) (1.16.0)\n",
      "Requirement already satisfied: zipp>=3.1.0 in c:\\users\\tadnan\\anaconda3\\envs\\deepcrack\\lib\\site-packages (from importlib-resources>=3.2.0->matplotlib->-r Requirements.txt (line 3)) (3.15.0)\n",
      "Requirement already satisfied: jsonpointer>=1.9 in c:\\users\\tadnan\\anaconda3\\envs\\deepcrack\\lib\\site-packages (from jsonpatch->visdom->-r Requirements.txt (line 9)) (2.3)\n",
      "Requirement already satisfied: urllib3<1.27,>=1.21.1 in c:\\users\\tadnan\\anaconda3\\envs\\deepcrack\\lib\\site-packages (from requests->torchvision->-r Requirements.txt (line 7)) (1.26.14)\n",
      "Requirement already satisfied: idna<4,>=2.5 in c:\\users\\tadnan\\anaconda3\\envs\\deepcrack\\lib\\site-packages (from requests->torchvision->-r Requirements.txt (line 7)) (3.4)\n",
      "Requirement already satisfied: certifi>=2017.4.17 in c:\\users\\tadnan\\anaconda3\\envs\\deepcrack\\lib\\site-packages (from requests->torchvision->-r Requirements.txt (line 7)) (2022.12.7)\n",
      "Requirement already satisfied: charset-normalizer<4,>=2 in c:\\users\\tadnan\\anaconda3\\envs\\deepcrack\\lib\\site-packages (from requests->torchvision->-r Requirements.txt (line 7)) (3.1.0)\n",
      "Installing collected packages: setproctitle\n",
      "Successfully installed setproctitle-1.3.2\n"
     ]
    }
   ],
   "source": [
    "!pip install -r Requirements.txt"
   ]
  },
  {
   "cell_type": "code",
   "execution_count": 2,
   "id": "b7ae3407",
   "metadata": {
    "scrolled": true
   },
   "outputs": [
    {
     "name": "stdout",
     "output_type": "stream",
     "text": [
      "Collecting package metadata (current_repodata.json): ...working... done\n",
      "Solving environment: ...working... done\n",
      "\n",
      "# All requested packages already installed.\n",
      "\n",
      "\n",
      "Note: you may need to restart the kernel to use updated packages.\n"
     ]
    }
   ],
   "source": [
    "conda install py-opencv"
   ]
  },
  {
   "cell_type": "code",
   "execution_count": 3,
   "id": "05e3f839",
   "metadata": {},
   "outputs": [
    {
     "name": "stderr",
     "output_type": "stream",
     "text": [
      "C:\\Users\\tadnan\\Anaconda3\\envs\\DeepCrack\\lib\\site-packages\\tqdm\\auto.py:21: TqdmWarning: IProgress not found. Please update jupyter and ipywidgets. See https://ipywidgets.readthedocs.io/en/stable/user_install.html\n",
      "  from .autonotebook import tqdm as notebook_tqdm\n"
     ]
    },
    {
     "name": "stdout",
     "output_type": "stream",
     "text": [
      "1.13.1+cpu\n"
     ]
    }
   ],
   "source": [
    "import torch\n",
    "print(torch.__version__)"
   ]
  },
  {
   "cell_type": "code",
   "execution_count": null,
   "id": "280591d3",
   "metadata": {},
   "outputs": [],
   "source": []
  }
 ],
 "metadata": {
  "kernelspec": {
   "display_name": "Python 3 (ipykernel)",
   "language": "python",
   "name": "python3"
  },
  "language_info": {
   "codemirror_mode": {
    "name": "ipython",
    "version": 3
   },
   "file_extension": ".py",
   "mimetype": "text/x-python",
   "name": "python",
   "nbconvert_exporter": "python",
   "pygments_lexer": "ipython3",
   "version": "3.9.16"
  }
 },
 "nbformat": 4,
 "nbformat_minor": 5
}
